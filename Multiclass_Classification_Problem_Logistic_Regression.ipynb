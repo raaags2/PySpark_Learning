{
 "cells": [
  {
   "cell_type": "markdown",
   "metadata": {},
   "source": [
    "# Multinomial Logisitic Regression - Iris Dataset"
   ]
  },
  {
   "cell_type": "code",
   "execution_count": 29,
   "metadata": {
    "collapsed": true
   },
   "outputs": [],
   "source": [
    "from pyspark.sql import SparkSession\n",
    "from pyspark.ml.classification import LogisticRegression\n",
    "from pyspark.ml.feature import VectorAssembler, StringIndexer"
   ]
  },
  {
   "cell_type": "code",
   "execution_count": 30,
   "metadata": {
    "collapsed": true
   },
   "outputs": [],
   "source": [
    "spark = SparkSession.builder.appName('Logistic_Regression').getOrCreate()"
   ]
  },
  {
   "cell_type": "code",
   "execution_count": 31,
   "metadata": {},
   "outputs": [],
   "source": [
    "df = spark.read.csv(r'F:\\backup\\practice\\Apache_spark\\Python-and-Spark-for-Big-Data-master\\Spark_for_Machine_Learning\\Logistic_Regression\\iris.csv',inferSchema=True,header=True)"
   ]
  },
  {
   "cell_type": "code",
   "execution_count": 32,
   "metadata": {},
   "outputs": [
    {
     "name": "stdout",
     "output_type": "stream",
     "text": [
      "root\n",
      " |-- sepal_len: double (nullable = true)\n",
      " |-- sepal_wid: double (nullable = true)\n",
      " |-- petal_len: double (nullable = true)\n",
      " |-- petal_wid: double (nullable = true)\n",
      " |-- class: string (nullable = true)\n",
      "\n"
     ]
    }
   ],
   "source": [
    "df.printSchema()"
   ]
  },
  {
   "cell_type": "code",
   "execution_count": 33,
   "metadata": {},
   "outputs": [
    {
     "data": {
      "text/plain": [
       "['sepal_len', 'sepal_wid', 'petal_len', 'petal_wid', 'class']"
      ]
     },
     "execution_count": 33,
     "metadata": {},
     "output_type": "execute_result"
    }
   ],
   "source": [
    "df.columns"
   ]
  },
  {
   "cell_type": "code",
   "execution_count": 34,
   "metadata": {},
   "outputs": [
    {
     "name": "stdout",
     "output_type": "stream",
     "text": [
      "+---------+---------+---------+---------+-----------+---------+\n",
      "|sepal_len|sepal_wid|petal_len|petal_wid|      class|class_ind|\n",
      "+---------+---------+---------+---------+-----------+---------+\n",
      "|      5.1|      3.5|      1.4|      0.2|Iris-setosa|      0.0|\n",
      "|      4.9|      3.0|      1.4|      0.2|Iris-setosa|      0.0|\n",
      "|      4.7|      3.2|      1.3|      0.2|Iris-setosa|      0.0|\n",
      "|      4.6|      3.1|      1.5|      0.2|Iris-setosa|      0.0|\n",
      "|      5.0|      3.6|      1.4|      0.2|Iris-setosa|      0.0|\n",
      "|      5.4|      3.9|      1.7|      0.4|Iris-setosa|      0.0|\n",
      "|      4.6|      3.4|      1.4|      0.3|Iris-setosa|      0.0|\n",
      "|      5.0|      3.4|      1.5|      0.2|Iris-setosa|      0.0|\n",
      "|      4.4|      2.9|      1.4|      0.2|Iris-setosa|      0.0|\n",
      "|      4.9|      3.1|      1.5|      0.1|Iris-setosa|      0.0|\n",
      "|      5.4|      3.7|      1.5|      0.2|Iris-setosa|      0.0|\n",
      "|      4.8|      3.4|      1.6|      0.2|Iris-setosa|      0.0|\n",
      "|      4.8|      3.0|      1.4|      0.1|Iris-setosa|      0.0|\n",
      "|      4.3|      3.0|      1.1|      0.1|Iris-setosa|      0.0|\n",
      "|      5.8|      4.0|      1.2|      0.2|Iris-setosa|      0.0|\n",
      "|      5.7|      4.4|      1.5|      0.4|Iris-setosa|      0.0|\n",
      "|      5.4|      3.9|      1.3|      0.4|Iris-setosa|      0.0|\n",
      "|      5.1|      3.5|      1.4|      0.3|Iris-setosa|      0.0|\n",
      "|      5.7|      3.8|      1.7|      0.3|Iris-setosa|      0.0|\n",
      "|      5.1|      3.8|      1.5|      0.3|Iris-setosa|      0.0|\n",
      "+---------+---------+---------+---------+-----------+---------+\n",
      "only showing top 20 rows\n",
      "\n"
     ]
    }
   ],
   "source": [
    "class_val = StringIndexer(inputCol='class',outputCol='class_ind')\n",
    "ind = class_val.fit(df).transform(df)\n",
    "ind.show()"
   ]
  },
  {
   "cell_type": "code",
   "execution_count": 35,
   "metadata": {
    "collapsed": true
   },
   "outputs": [],
   "source": [
    "assembler = VectorAssembler(inputCols=['sepal_len', 'sepal_wid', 'petal_len', 'petal_wid'], outputCol='features')"
   ]
  },
  {
   "cell_type": "code",
   "execution_count": 36,
   "metadata": {
    "collapsed": true
   },
   "outputs": [],
   "source": [
    "output = assembler.transform(ind)"
   ]
  },
  {
   "cell_type": "code",
   "execution_count": 51,
   "metadata": {},
   "outputs": [
    {
     "name": "stdout",
     "output_type": "stream",
     "text": [
      "+-----------------+---------+\n",
      "|         features|class_ind|\n",
      "+-----------------+---------+\n",
      "|[5.1,3.5,1.4,0.2]|      0.0|\n",
      "|[4.9,3.0,1.4,0.2]|      0.0|\n",
      "|[4.7,3.2,1.3,0.2]|      0.0|\n",
      "|[4.6,3.1,1.5,0.2]|      0.0|\n",
      "|[5.0,3.6,1.4,0.2]|      0.0|\n",
      "|[5.4,3.9,1.7,0.4]|      0.0|\n",
      "|[4.6,3.4,1.4,0.3]|      0.0|\n",
      "|[5.0,3.4,1.5,0.2]|      0.0|\n",
      "|[4.4,2.9,1.4,0.2]|      0.0|\n",
      "|[4.9,3.1,1.5,0.1]|      0.0|\n",
      "|[5.4,3.7,1.5,0.2]|      0.0|\n",
      "|[4.8,3.4,1.6,0.2]|      0.0|\n",
      "|[4.8,3.0,1.4,0.1]|      0.0|\n",
      "|[4.3,3.0,1.1,0.1]|      0.0|\n",
      "|[5.8,4.0,1.2,0.2]|      0.0|\n",
      "|[5.7,4.4,1.5,0.4]|      0.0|\n",
      "|[5.4,3.9,1.3,0.4]|      0.0|\n",
      "|[5.1,3.5,1.4,0.3]|      0.0|\n",
      "|[5.7,3.8,1.7,0.3]|      0.0|\n",
      "|[5.1,3.8,1.5,0.3]|      0.0|\n",
      "+-----------------+---------+\n",
      "only showing top 20 rows\n",
      "\n"
     ]
    }
   ],
   "source": [
    "final_data = output.select('features','class_ind')\n",
    "final_data.show()"
   ]
  },
  {
   "cell_type": "code",
   "execution_count": 52,
   "metadata": {
    "collapsed": true
   },
   "outputs": [],
   "source": [
    "train, test = final_data.randomSplit([0.7,0.3])"
   ]
  },
  {
   "cell_type": "code",
   "execution_count": 59,
   "metadata": {},
   "outputs": [
    {
     "name": "stdout",
     "output_type": "stream",
     "text": [
      "+-------+------------------+\n",
      "|summary|         class_ind|\n",
      "+-------+------------------+\n",
      "|  count|               104|\n",
      "|   mean|1.0288461538461537|\n",
      "| stddev|0.8297470753857933|\n",
      "|    min|               0.0|\n",
      "|    max|               2.0|\n",
      "+-------+------------------+\n",
      "\n"
     ]
    }
   ],
   "source": [
    "train.describe().show()"
   ]
  },
  {
   "cell_type": "code",
   "execution_count": 56,
   "metadata": {
    "collapsed": true
   },
   "outputs": [],
   "source": [
    "lr = LogisticRegression(featuresCol='features',labelCol='class_ind',family='multinomial')"
   ]
  },
  {
   "cell_type": "code",
   "execution_count": 57,
   "metadata": {
    "collapsed": true
   },
   "outputs": [],
   "source": [
    "lr_model = lr.fit(train)"
   ]
  },
  {
   "cell_type": "code",
   "execution_count": 60,
   "metadata": {},
   "outputs": [],
   "source": [
    "res = lr_model.transform(test)"
   ]
  },
  {
   "cell_type": "code",
   "execution_count": 65,
   "metadata": {},
   "outputs": [
    {
     "name": "stdout",
     "output_type": "stream",
     "text": [
      "+---------+----------+\n",
      "|class_ind|prediction|\n",
      "+---------+----------+\n",
      "|      0.0|       0.0|\n",
      "|      0.0|       0.0|\n",
      "|      0.0|       0.0|\n",
      "|      0.0|       0.0|\n",
      "|      2.0|       1.0|\n",
      "|      0.0|       0.0|\n",
      "|      0.0|       0.0|\n",
      "|      0.0|       0.0|\n",
      "|      0.0|       0.0|\n",
      "|      0.0|       0.0|\n",
      "|      0.0|       0.0|\n",
      "|      1.0|       1.0|\n",
      "|      0.0|       0.0|\n",
      "|      0.0|       0.0|\n",
      "|      0.0|       0.0|\n",
      "|      0.0|       0.0|\n",
      "|      1.0|       1.0|\n",
      "|      0.0|       0.0|\n",
      "|      1.0|       1.0|\n",
      "|      0.0|       0.0|\n",
      "+---------+----------+\n",
      "only showing top 20 rows\n",
      "\n"
     ]
    }
   ],
   "source": [
    "res.select('class_ind','prediction').show()"
   ]
  },
  {
   "cell_type": "code",
   "execution_count": 68,
   "metadata": {
    "collapsed": true
   },
   "outputs": [],
   "source": [
    "from pyspark.ml.evaluation import BinaryClassificationEvaluator, MulticlassClassificationEvaluator"
   ]
  },
  {
   "cell_type": "code",
   "execution_count": 70,
   "metadata": {},
   "outputs": [],
   "source": [
    "evaltn = MulticlassClassificationEvaluator(predictionCol='prediction',labelCol='class_ind')"
   ]
  },
  {
   "cell_type": "code",
   "execution_count": 71,
   "metadata": {},
   "outputs": [
    {
     "data": {
      "text/plain": [
       "0.9331732488632299"
      ]
     },
     "execution_count": 71,
     "metadata": {},
     "output_type": "execute_result"
    }
   ],
   "source": [
    "AUC = evaltn.evaluate(res)\n",
    "AUC"
   ]
  },
  {
   "cell_type": "code",
   "execution_count": null,
   "metadata": {
    "collapsed": true
   },
   "outputs": [],
   "source": []
  }
 ],
 "metadata": {
  "kernelspec": {
   "display_name": "Python [Root]",
   "language": "python",
   "name": "Python [Root]"
  },
  "language_info": {
   "codemirror_mode": {
    "name": "ipython",
    "version": 3
   },
   "file_extension": ".py",
   "mimetype": "text/x-python",
   "name": "python",
   "nbconvert_exporter": "python",
   "pygments_lexer": "ipython3",
   "version": "3.5.2"
  }
 },
 "nbformat": 4,
 "nbformat_minor": 2
}
